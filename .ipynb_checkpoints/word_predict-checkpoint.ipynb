{
 "cells": [
  {
   "cell_type": "code",
   "execution_count": 1,
   "metadata": {},
   "outputs": [],
   "source": [
    "import re\n",
    "import pandas as pd\n",
    "import numpy as np\n",
    "from sklearn.feature_extraction.text import CountVectorizer, TfidfVectorizer\n",
    "from nltk.tokenize import word_tokenize, WhitespaceTokenizer, TweetTokenizer"
   ]
  },
  {
   "cell_type": "code",
   "execution_count": 2,
   "metadata": {},
   "outputs": [
    {
     "name": "stdout",
     "output_type": "stream",
     "text": [
      "rows after removing nans:  20761\n"
     ]
    }
   ],
   "source": [
    "df = pd.read_csv('train.csv')[['text']]\n",
    "df = df[df.text.isna() == False]\n",
    "l =len(df)\n",
    "print('rows after removing nans: ', l)\n",
    "rando = list(np.random.choice(l-2, 3000, replace=False))\n",
    "df = df.iloc[rando]"
   ]
  },
  {
   "cell_type": "code",
   "execution_count": 3,
   "metadata": {},
   "outputs": [],
   "source": [
    "def clean_article(article):\n",
    "    art2 = re.sub(\"[^A-Za-z ]\", ' ', article)\n",
    "    return art2.lower()"
   ]
  },
  {
   "cell_type": "code",
   "execution_count": 4,
   "metadata": {},
   "outputs": [],
   "source": [
    "unigram_bow = CountVectorizer(stop_words = None, preprocessor = clean_article, \n",
    "                              tokenizer = WhitespaceTokenizer().tokenize, ngram_range=(1,1), \n",
    "                              max_features = None, max_df = 1.0, min_df = 1, binary = False)\n",
    "unigram_count_sparse = unigram_bow.fit_transform(df.text)"
   ]
  },
  {
   "cell_type": "code",
   "execution_count": 5,
   "metadata": {},
   "outputs": [],
   "source": [
    "unigram_count = pd.DataFrame(unigram_count_sparse.toarray())\n",
    "unigram_count.columns = unigram_bow.get_feature_names()"
   ]
  },
  {
   "cell_type": "code",
   "execution_count": 6,
   "metadata": {},
   "outputs": [
    {
     "data": {
      "text/plain": [
       "0     5\n",
       "1     4\n",
       "2    46\n",
       "3     0\n",
       "4    11\n",
       "5    15\n",
       "6     1\n",
       "7     0\n",
       "8     0\n",
       "9    15\n",
       "Name: a, dtype: int64"
      ]
     },
     "execution_count": 6,
     "metadata": {},
     "output_type": "execute_result"
    }
   ],
   "source": [
    "unigram_count['a'].iloc[0:10]"
   ]
  },
  {
   "cell_type": "code",
   "execution_count": 7,
   "metadata": {},
   "outputs": [
    {
     "data": {
      "text/plain": [
       "42"
      ]
     },
     "execution_count": 7,
     "metadata": {},
     "output_type": "execute_result"
    }
   ],
   "source": [
    "max([len(c) for c in unigram_count.columns])"
   ]
  },
  {
   "cell_type": "code",
   "execution_count": 8,
   "metadata": {},
   "outputs": [],
   "source": [
    "for c in list(unigram_count.columns):\n",
    "    if (len(c) < 2) and (c not in ['a', 'i']):\n",
    "        unigram_count.drop(c, axis = 1, inplace = True)"
   ]
  },
  {
   "cell_type": "code",
   "execution_count": 9,
   "metadata": {},
   "outputs": [
    {
     "data": {
      "text/plain": [
       "Index(['a', 'aa', 'aaa', 'aaas', 'aab', 'aahs', 'aaingr', 'aaluijqn',\n",
       "       'aaojejptcy', 'aap',\n",
       "       ...\n",
       "       'zwo', 'zwvgl', 'zxh', 'zxua', 'zy', 'zybvwqhlbctginctv',\n",
       "       'zylinderkopfdichtung', 'zytsov', 'zyuganov', 'zz'],\n",
       "      dtype='object', length=61526)"
      ]
     },
     "execution_count": 9,
     "metadata": {},
     "output_type": "execute_result"
    }
   ],
   "source": [
    "unigram_count.columns"
   ]
  },
  {
   "cell_type": "code",
   "execution_count": 10,
   "metadata": {},
   "outputs": [
    {
     "data": {
      "text/plain": [
       "18"
      ]
     },
     "execution_count": 10,
     "metadata": {},
     "output_type": "execute_result"
    }
   ],
   "source": [
    "len('unconstitutionally')"
   ]
  },
  {
   "cell_type": "code",
   "execution_count": null,
   "metadata": {},
   "outputs": [],
   "source": []
  }
 ],
 "metadata": {
  "kernelspec": {
   "display_name": "Python 3",
   "language": "python",
   "name": "python3"
  },
  "language_info": {
   "codemirror_mode": {
    "name": "ipython",
    "version": 3
   },
   "file_extension": ".py",
   "mimetype": "text/x-python",
   "name": "python",
   "nbconvert_exporter": "python",
   "pygments_lexer": "ipython3",
   "version": "3.6.5"
  }
 },
 "nbformat": 4,
 "nbformat_minor": 2
}
